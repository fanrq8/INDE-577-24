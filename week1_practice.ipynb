{
 "cells": [
  {
   "cell_type": "markdown",
   "metadata": {},
   "source": [
    "# Week 1\n",
    "## Strings\n",
    "**Strings** are written in '' or \"\". Stay consistent of whicheverone you used. Examples where strings in used include writing *doc strings*, printing descriptive output, and when naming the columns of tabular data (*DataFrames*).\n",
    "\n",
    "**String contentation** uses the + to connect 2 or more strings together. You can connect the first and last name in the example with this method, add blank spaces in middle. \n",
    "\n",
    "**Object-Oriented Programming** Object-Oriented Programming (OOP) is a programming paradigm or style that organizes software design around data, or objects, rather than functions and logic. \n",
    "An object can be defined as a data field that has unique attributes and behavior. The OOP model allows you to structure your software in a way that can be both flexible and reusable. Supports the OOP paradium and allows us to define classes, create object from those classes. Objects have methose and attributes associated to them.\n",
    "\n",
    "**f string** allows us to place the value of a variable into a string with {}. *See age example below \n",
    "\n",
    "*Python has a set of built-in method to use on strings*\n",
    "\n",
    "1. ```capitalize()```:  Converts the first character to upper case\n",
    "2. ```title()```:  Capitalizes the first letter of each word\n",
    "3. ```count()```:  Returns the number of times a specified value occurs in a string *e.g. need a least a letter*\n",
    "4. ```find()```:  Searches the string for a specified value and returns the position of where it was found\n",
    "\n",
    "\n",
    "**The attributes and methods of an object are accessed with:** \n",
    "* ```object.attribute```\n",
    "* ```object.method()``` \n",
    "\n",
    "Other strings methods discuessed include replace, string indexing *start with 0*, string slicing *a to b-1*"
   ]
  },
  {
   "cell_type": "code",
   "execution_count": 5,
   "metadata": {},
   "outputs": [
    {
     "name": "stdout",
     "output_type": "stream",
     "text": [
      "Wesley\n",
      "Meow\n"
     ]
    },
    {
     "ename": "AttributeError",
     "evalue": "'str' object has no attribute 'attribute'",
     "output_type": "error",
     "traceback": [
      "\u001b[0;31m---------------------------------------------------------------------------\u001b[0m",
      "\u001b[0;31mAttributeError\u001b[0m                            Traceback (most recent call last)",
      "Cell \u001b[0;32mIn[5], line 11\u001b[0m\n\u001b[1;32m      8\u001b[0m \u001b[38;5;66;03m# String interpolation \u001b[39;00m\n\u001b[1;32m      9\u001b[0m \u001b[38;5;124mf\u001b[39m\u001b[38;5;124m\"\u001b[39m\u001b[38;5;132;01m{\u001b[39;00mfirst_name\u001b[38;5;132;01m}\u001b[39;00m\u001b[38;5;124m \u001b[39m\u001b[38;5;132;01m{\u001b[39;00mlast_name\u001b[38;5;132;01m}\u001b[39;00m\u001b[38;5;124m is \u001b[39m\u001b[38;5;132;01m{\u001b[39;00mage\u001b[38;5;132;01m}\u001b[39;00m\u001b[38;5;124m years old\u001b[39m\u001b[38;5;124m\"\u001b[39m \n\u001b[0;32m---> 11\u001b[0m first_name\u001b[38;5;241m.\u001b[39mattribute\n",
      "\u001b[0;31mAttributeError\u001b[0m: 'str' object has no attribute 'attribute'"
     ]
    }
   ],
   "source": [
    "first_name = \"Wesley\"\n",
    "last_name = \"Meow\"\n",
    "print(first_name)\n",
    "print(last_name)\n",
    "first_name + \" \" + last_name\n",
    "\n",
    "age = 3\n",
    "# String interpolation \n",
    "f\"{first_name} {last_name} is {age} years old\" \n",
    "\n",
    "first_name.attribute"
   ]
  },
  {
   "cell_type": "markdown",
   "metadata": {},
   "source": [
    "## List\n",
    "\n",
    "**List** is ordered object, *mutable* it can contain any type *can be mixed*. To create a list use [] the sqaure bracket \n",
    "**List indexing** starts with 0 from the begining, and the last one would be len(list)-1. Without knowing the end of a list, start with -1 on the other end of the list would work. \n",
    "`sum()``max()``min()` for numeric lists \n",
    "**list methods**\n",
    "1. ```append()```:\tAdds an element at the end of the list\n",
    "2. ```clear()```:\tRemoves all the elements from the list\n",
    "3. ```copy()```:\tReturns a copy of the list\n",
    "4. ```count()```:\tReturns the number of elements with the specified value\n",
    "5. ```extend()```:\tAdd the elements of a list (or any iterable), to the end of the current list\n",
    "6. ```index()```:\tReturns the index of the first element with the specified value\n",
    "7. ```insert()```:\tAdds an element at the specified position\n",
    "8. ```pop()```:\tRemoves the element at the specified position\n",
    "9. ```remove()```:\tRemoves the first item with the specified value\n",
    "10. ```reverse()```:\tReverses the order of the list\n",
    "11. ```sort()```:\tSorts the list\n",
    "\n",
    "Append Behavior: append() treats the item being added as a single entity. If the item is a list, it will be added as a single nested list element.\n",
    "Extend Behavior: extend() takes an iterable and adds its elements to the list, not as a single unit but individually, effectively extending the list with the elements of the iterable.\n"
   ]
  },
  {
   "cell_type": "code",
   "execution_count": null,
   "metadata": {},
   "outputs": [],
   "source": []
  },
  {
   "cell_type": "markdown",
   "metadata": {},
   "source": []
  }
 ],
 "metadata": {
  "kernelspec": {
   "display_name": "base",
   "language": "python",
   "name": "python3"
  },
  "language_info": {
   "codemirror_mode": {
    "name": "ipython",
    "version": 3
   },
   "file_extension": ".py",
   "mimetype": "text/x-python",
   "name": "python",
   "nbconvert_exporter": "python",
   "pygments_lexer": "ipython3",
   "version": "3.11.5"
  }
 },
 "nbformat": 4,
 "nbformat_minor": 2
}
