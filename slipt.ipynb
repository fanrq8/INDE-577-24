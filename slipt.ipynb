{
 "cells": [
  {
   "cell_type": "code",
   "execution_count": 3,
   "metadata": {},
   "outputs": [
    {
     "name": "stdout",
     "output_type": "stream",
     "text": [
      "CSV file has been split into 'first_half.csv' and 'second_half.csv'\n"
     ]
    }
   ],
   "source": [
    "import pandas as pd\n",
    "\n",
    "# Load the large CSV file\n",
    "file_path = '/Users/ruiqingfan/Documents/INDE-577-24/INDE-577-24-1/RVR18 copy.csv'  # Update this to your file path\n",
    "data = pd.read_csv(file_path)\n",
    "len(data)\n",
    "\n",
    "# Calculate the index to split the dataframe\n",
    "split_index = len(data) // 2\n",
    "\n",
    "# Split the dataframe into two parts\n",
    "data_first_half = data.iloc[:split_index]\n",
    "data_second_half = data.iloc[split_index:]\n",
    "\n",
    "# Save the two halves to new CSV files\n",
    "data_first_half.to_csv('rvr 18 first_half.csv', index=False)\n",
    "data_second_half.to_csv('rvr 18 second_half.csv', index=False)\n",
    "\n",
    "print(\"CSV file has been split into 'first_half.csv' and 'second_half.csv'\")\n"
   ]
  }
 ],
 "metadata": {
  "kernelspec": {
   "display_name": "Python 3",
   "language": "python",
   "name": "python3"
  },
  "language_info": {
   "codemirror_mode": {
    "name": "ipython",
    "version": 3
   },
   "file_extension": ".py",
   "mimetype": "text/x-python",
   "name": "python",
   "nbconvert_exporter": "python",
   "pygments_lexer": "ipython3",
   "version": "3.1.0"
  }
 },
 "nbformat": 4,
 "nbformat_minor": 2
}
